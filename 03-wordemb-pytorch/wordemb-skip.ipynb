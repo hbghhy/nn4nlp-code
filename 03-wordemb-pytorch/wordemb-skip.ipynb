{
 "cells": [
  {
   "cell_type": "code",
   "execution_count": 1,
   "metadata": {
    "ExecuteTime": {
     "end_time": "2018-04-05T13:22:07.829124Z",
     "start_time": "2018-04-05T13:22:05.872583Z"
    }
   },
   "outputs": [],
   "source": [
    "from collections import defaultdict\n",
    "import math\n",
    "import time\n",
    "import random\n",
    "import os, sys\n",
    "\n",
    "import torch\n",
    "import torch.nn as nn\n",
    "from torch.autograd import Variable"
   ]
  },
  {
   "cell_type": "code",
   "execution_count": 2,
   "metadata": {
    "ExecuteTime": {
     "end_time": "2018-04-05T13:22:08.658084Z",
     "start_time": "2018-04-05T13:22:07.830644Z"
    }
   },
   "outputs": [],
   "source": [
    "\n",
    "N = 2 # The length of the n-gram\n",
    "EMB_SIZE = 128 # The size of the embedding\n",
    "\n",
    "embeddings_location = \"embeddings.txt\" #the file to write the word embeddings to\n",
    "labels_location = \"labels.txt\" #the file to write the labels to\n",
    "\n",
    "USE_CUDA = torch.cuda.is_available()\n",
    "\n",
    "# Functions to read in the corpus\n",
    "# NOTE: We are using data from the Penn Treebank, which is already converted\n",
    "#       into an easy-to-use format with \"<unk>\" symbols. If we were using other\n",
    "#       data we would have to do pre-processing and consider how to choose\n",
    "#       unknown words, etc.\n",
    "w2i = defaultdict(lambda: len(w2i))\n",
    "S = w2i[\"<s>\"]\n",
    "UNK = w2i[\"<unk>\"]\n",
    "def read_dataset(filename):\n",
    "    with open(filename, \"r\") as f:\n",
    "        for line in f:\n",
    "            yield [w2i[x] for x in line.strip().split(\" \")]\n",
    "\n",
    "# Read in the data\n",
    "train = list(read_dataset(\"../data/ptb/train.txt\"))\n",
    "w2i = defaultdict(lambda: UNK, w2i)\n",
    "dev = list(read_dataset(\"../data/ptb/valid.txt\"))\n",
    "i2w = {v: k for k, v in w2i.items()}\n",
    "nwords = len(w2i)\n",
    "\n",
    "\n",
    "with open(labels_location, 'w') as labels_file:\n",
    "    for i in range(nwords):\n",
    "        labels_file.write(i2w[i] + '\\n')"
   ]
  },
  {
   "cell_type": "code",
   "execution_count": 3,
   "metadata": {
    "ExecuteTime": {
     "end_time": "2018-04-05T13:22:08.673552Z",
     "start_time": "2018-04-05T13:22:08.659514Z"
    }
   },
   "outputs": [],
   "source": [
    "\n",
    "class SKIP(nn.Module):\n",
    "    def __init__(self, nwords, emb_size, num_context):\n",
    "        super(SKIP, self).__init__()\n",
    "        self.embedding = nn.Embedding(nwords, emb_size)\n",
    "        self.linear = nn.Linear(emb_size, nwords)\n",
    "\n",
    "    def forward(self, words):\n",
    "        #print(words)\n",
    "        emb = self.embedding(words)    # 3D Tensor of size [batch_size x1x  emb_size]\n",
    "        feat = emb.view(emb.size(0), -1) # 2D Tensor of size [batch_size x (2 x num_context*emb_size)]\n",
    "        logit = self.linear(feat)           # 2D Tensor of size [batch_size x nwords]\n",
    "\n",
    "        return logit"
   ]
  },
  {
   "cell_type": "code",
   "execution_count": 4,
   "metadata": {
    "ExecuteTime": {
     "end_time": "2018-04-05T13:22:12.774420Z",
     "start_time": "2018-04-05T13:22:08.676074Z"
    }
   },
   "outputs": [],
   "source": [
    "# Initialize the model and the optimizer\n",
    "model = SKIP(nwords=nwords, emb_size=EMB_SIZE,num_context=N)\n",
    "if USE_CUDA:\n",
    "    model = model.cuda()\n",
    "optimizer = torch.optim.Adam(model.parameters(), lr=0.001)"
   ]
  },
  {
   "cell_type": "code",
   "execution_count": 5,
   "metadata": {
    "ExecuteTime": {
     "end_time": "2018-04-05T13:22:12.845093Z",
     "start_time": "2018-04-05T13:22:12.776911Z"
    }
   },
   "outputs": [],
   "source": [
    "# convert a (nested) list of int into a pytorch Variable\n",
    "def convert_to_variable(words):\n",
    "    var = Variable(torch.LongTensor(words))\n",
    "    if USE_CUDA:\n",
    "        var = var.cuda()\n",
    "\n",
    "    return var\n",
    "\n",
    "# A function to calculate scores for one value\n",
    "def calc_score_of_histories(words):\n",
    "    # This will change from a list of histories, to a pytorch Variable whose data type is LongTensor\n",
    "    words_var = convert_to_variable(words)\n",
    "    logits = model(words_var)\n",
    "    return logits\n",
    "\n",
    "# Calculate the loss value for the entire sentence\n",
    "def calc_sent_loss(sent):\n",
    "    # The initial history is equal to end of sentence symbols\n",
    "    # Step through the sentence, including the end of sentence token\n",
    "    all_histories = []\n",
    "    all_targets = []\n",
    "    for i in range(0,len(sent)):\n",
    "        for j in range(1,N+1):\n",
    "            if i-j>=0:\n",
    "                all_histories.append([sent[i]])\n",
    "                all_targets.append(sent[i-j])\n",
    "            if i+j<len(sent):\n",
    "                all_histories.append([sent[i]])\n",
    "                all_targets.append(sent[i+j])                \n",
    "#     print(all_histories)\n",
    "#     print(all_targets)\n",
    "    logits = calc_score_of_histories(all_histories)\n",
    "    #print(logits)\n",
    "    loss = nn.functional.cross_entropy(logits, convert_to_variable(all_targets), size_average=False)\n",
    "\n",
    "    return loss"
   ]
  },
  {
   "cell_type": "code",
   "execution_count": 7,
   "metadata": {
    "ExecuteTime": {
     "end_time": "2018-04-05T14:03:51.550859Z",
     "start_time": "2018-04-05T13:56:48.029052Z"
    }
   },
   "outputs": [
    {
     "name": "stdout",
     "output_type": "stream",
     "text": [
      "--finished 5000 sentences (word/sec=4507.87)\n",
      "--finished 10000 sentences (word/sec=4386.28)\n",
      "--finished 15000 sentences (word/sec=4403.55)\n",
      "--finished 20000 sentences (word/sec=4427.65)\n",
      "--finished 25000 sentences (word/sec=4432.31)\n",
      "--finished 30000 sentences (word/sec=4414.47)\n",
      "--finished 35000 sentences (word/sec=4418.42)\n",
      "--finished 40000 sentences (word/sec=4424.09)\n",
      "iter 0: train loss/word=23.5373, ppl=16676803718.0576 (word/sec=4416.97)\n",
      "saving embedding files\n",
      "iter 0: dev loss/word=23.8552, ppl=22919204504.8989 (word/sec=16630.45)\n",
      "--finished 5000 sentences (word/sec=4381.01)\n",
      "--finished 10000 sentences (word/sec=4361.63)\n",
      "--finished 15000 sentences (word/sec=3938.37)\n",
      "--finished 20000 sentences (word/sec=3969.43)\n",
      "--finished 25000 sentences (word/sec=4054.97)\n",
      "--finished 30000 sentences (word/sec=4106.83)\n",
      "--finished 35000 sentences (word/sec=4147.03)\n",
      "--finished 40000 sentences (word/sec=4153.94)\n",
      "iter 1: train loss/word=23.3454, ppl=13765206492.5057 (word/sec=4155.84)\n",
      "saving embedding files\n",
      "iter 1: dev loss/word=23.7682, ppl=21008941291.9252 (word/sec=14829.95)\n"
     ]
    }
   ],
   "source": [
    "\n",
    "last_dev = 1e20\n",
    "best_dev = 1e20\n",
    "\n",
    "for ITER in range(2):\n",
    "  # Perform training\n",
    "    random.shuffle(train)\n",
    "    # set the model to training mode\n",
    "    model.train()\n",
    "    train_words, train_loss = 0, 0.0\n",
    "    start = time.time()\n",
    "    for sent_id, sent in enumerate(train):\n",
    "        if len(sent)<=1:\n",
    "            continue\n",
    "        #print(sent)\n",
    "        my_loss = calc_sent_loss(sent)\n",
    "        train_loss += my_loss.data[0]\n",
    "        train_words += len(sent)\n",
    "        optimizer.zero_grad()\n",
    "        my_loss.backward()\n",
    "        optimizer.step()\n",
    "        if (sent_id+1) % 5000 == 0:\n",
    "            print(\"--finished %r sentences (word/sec=%.2f)\" % (sent_id+1, train_words/(time.time()-start)))\n",
    "    print(\"iter %r: train loss/word=%.4f, ppl=%.4f (word/sec=%.2f)\" % (ITER, train_loss/train_words, math.exp(train_loss/train_words), train_words/(time.time()-start)))\n",
    "\n",
    "    # Evaluate on dev set\n",
    "    # set the model to evaluation mode\n",
    "    model.eval()\n",
    "    dev_words, dev_loss = 0, 0.0\n",
    "    start = time.time()\n",
    "    for sent_id, sent in enumerate(dev):\n",
    "        if len(sent)<=1:\n",
    "            continue\n",
    "        my_loss = calc_sent_loss(sent)\n",
    "        dev_loss += my_loss.data[0]\n",
    "        dev_words += len(sent)\n",
    "\n",
    "    # Keep track of the development accuracy and reduce the learning rate if it got worse\n",
    "    if last_dev < dev_loss:\n",
    "        optimizer.learning_rate /= 2\n",
    "    last_dev = dev_loss\n",
    "\n",
    "    # Keep track of the best development accuracy, and save the model only if it's the best one\n",
    "    if best_dev > dev_loss:\n",
    "        print(\"saving embedding files\")\n",
    "        with open(embeddings_location, 'w') as embeddings_file:\n",
    "            W_w_np = model.embedding.weight.cpu().data.numpy()\n",
    "            for i in range(nwords):\n",
    "                ith_embedding = '\\t'.join(map(str, W_w_np[i]))\n",
    "                embeddings_file.write(ith_embedding + '\\n')\n",
    "        best_dev = dev_loss\n",
    "        \n",
    "        # Save the model\n",
    "    print(\"iter %r: dev loss/word=%.4f, ppl=%.4f (word/sec=%.2f)\" % (ITER, dev_loss/dev_words, math.exp(dev_loss/dev_words), dev_words/(time.time()-start)))\n"
   ]
  },
  {
   "cell_type": "code",
   "execution_count": null,
   "metadata": {},
   "outputs": [],
   "source": []
  }
 ],
 "metadata": {
  "kernelspec": {
   "display_name": "Python 3",
   "language": "python",
   "name": "python3"
  },
  "language_info": {
   "codemirror_mode": {
    "name": "ipython",
    "version": 3
   },
   "file_extension": ".py",
   "mimetype": "text/x-python",
   "name": "python",
   "nbconvert_exporter": "python",
   "pygments_lexer": "ipython3",
   "version": "3.6.4"
  }
 },
 "nbformat": 4,
 "nbformat_minor": 2
}
